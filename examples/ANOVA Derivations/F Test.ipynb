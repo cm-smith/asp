{
 "cells": [
  {
   "cell_type": "markdown",
   "metadata": {},
   "source": [
    "# *F* test\n",
    "---"
   ]
  },
  {
   "cell_type": "code",
   "execution_count": 1,
   "metadata": {},
   "outputs": [],
   "source": [
    "# Standard imports\n",
    "import numpy as np\n",
    "import matplotlib.pyplot as plt\n",
    "%matplotlib inline\n",
    "\n",
    "# Stats imports\n",
    "from statsmodels.stats.power import FTestPower"
   ]
  },
  {
   "cell_type": "markdown",
   "metadata": {},
   "source": [
    "# MDE Derivation\n",
    "---\n",
    "The normalized effect size commonly used for the *F* test (and implemented in `statsmodels`) is Cohen's *f*. This metric is defined as:\n",
    "\n",
    "$$f=\\sqrt{\\frac{\\sigma_m^2}{\\sigma^2}}=\\sqrt{\\frac{\\Sigma_it_i(\\mu_i-\\bar{\\mu})^2}{\\sigma^2}}=\\sqrt{\\frac{\\Sigma_it_i(\\mu_i-\\Sigma_kt_k(\\mu+e_k))^2}{\\sigma^2}},$$\n",
    "\n",
    "where $e_i, t_i$ are the absolute effect size and test split for experimental group $i$.\n",
    "\n",
    "We find that the minimal detectable effect (MDE) for test cell $j$ can be found by minimizing $e_j$. To do this, we set the equation for Cohen's *f* to zero and (through a bit of algebra) solve for the following second-order polynomial:\n",
    "\n",
    "$$0 = e_j^2[t_j-t_j^2] + e_j[-2t_jX]+[X^*-X^2-f^2\\sigma^2],$$\n",
    "\n",
    "where $\\Sigma^*$ is the summation of all experimental groups excluding fixed group $j$, which is being minimized; $X=\\Sigma_k^*t_ke_k$; and $X^*=\\Sigma^*_it_ie_i^2$.\n",
    "\n",
    "Let's first solve for Cohen's *f*:"
   ]
  },
  {
   "cell_type": "code",
   "execution_count": 2,
   "metadata": {},
   "outputs": [
    {
     "name": "stdout",
     "output_type": "stream",
     "text": [
      "Normalized effect size (Cohen's f) is: 1.0967864519924677\n"
     ]
    }
   ],
   "source": [
    "def cohens_f(test_splits, mus, sigma):\n",
    "    test_splits = np.array(test_splits)\n",
    "    assert round(test_splits.sum(), 6) == 1., \"Test splits must sum to 1\"\n",
    "    mus = np.array(mus)\n",
    "    pop_mu = (mus * test_splits).sum()\n",
    "    sigma2_m = (test_splits * np.square(mus - pop_mu)).sum()\n",
    "    f = np.sqrt(sigma2_m) / sigma\n",
    "    return f\n",
    "\n",
    "mu = 8.\n",
    "sigma = 1.34\n",
    "absolute_effects = [4., 3., 0.]\n",
    "test_splits = [0.4, 0.4, 0.2]\n",
    "\n",
    "mus = [mu + ae for ae in absolute_effects]\n",
    "effect_size = cohens_f(test_splits, mus, sigma)\n",
    "print(\"Normalized effect size (Cohen's f) is:\", effect_size)"
   ]
  },
  {
   "cell_type": "markdown",
   "metadata": {},
   "source": [
    "Next, let's check that the math in our second-order polynomial holds:"
   ]
  },
  {
   "cell_type": "code",
   "execution_count": 10,
   "metadata": {},
   "outputs": [
    {
     "name": "stdout",
     "output_type": "stream",
     "text": [
      "Algebraic output: 0.00000000\n"
     ]
    }
   ],
   "source": [
    "def check_math_1(test_splits, absolute_effects, mu, sigma):\n",
    "    test_splits = np.array(test_splits)\n",
    "    absolute_effects = np.array(absolute_effects)\n",
    "    mus = np.array([mu + ae for ae in absolute_effects])\n",
    "    \n",
    "    f = cohens_f(test_splits, mus, sigma)\n",
    "    \n",
    "    index = 0 # Fix any test group\n",
    "    t_j = test_splits[index]\n",
    "    e_j = absolute_effects[index]\n",
    "    \n",
    "    X = (test_splits * absolute_effects).sum() - (t_j * e_j)\n",
    "    X_star = (test_splits * absolute_effects * absolute_effects).sum() - (t_j * e_j * e_j)\n",
    "    \n",
    "    output = e_j**2 * (t_j - t_j**2) + e_j * (-2 * t_j * X) + (X_star - X**2 - f**2 * sigma**2)\n",
    "    print(\"Algebraic output: %.8f\" % output)\n",
    "\n",
    "check_math_1(test_splits, absolute_effects, mu, sigma)"
   ]
  },
  {
   "cell_type": "markdown",
   "metadata": {},
   "source": [
    "Now let's solve for the roots of $e_j$ to minimize the effect size:"
   ]
  },
  {
   "cell_type": "code",
   "execution_count": 5,
   "metadata": {},
   "outputs": [
    {
     "name": "stdout",
     "output_type": "stream",
     "text": [
      "Absolute MDE roots are: [ 2.62662565 -2.62662565]\n"
     ]
    }
   ],
   "source": [
    "def solve_absolute_mde_roots(sample_size, test_splits, absolute_effects, mu, sigma, alpha, beta):\n",
    "    test_splits = np.array(test_splits)\n",
    "    absolute_effects = np.array(absolute_effects)\n",
    "    \n",
    "    df_num = len(test_splits) - 1\n",
    "    df_denom = sample_size - len(test_splits)\n",
    "    \n",
    "    f = FTestPower().solve_power(\n",
    "        effect_size=None\n",
    "        ,df_num=df_denom\n",
    "        ,df_denom=df_num\n",
    "        ,alpha=alpha\n",
    "        ,power=(1-beta)\n",
    "        ,ncc=1\n",
    "    )\n",
    "    \n",
    "    index = 0 # Fix any test group\n",
    "    t_j = test_splits[index]\n",
    "    e_j = absolute_effects[index]\n",
    "    \n",
    "    X = (test_splits * absolute_effects).sum() - (t_j * e_j)\n",
    "    X_star = (test_splits * absolute_effects * absolute_effects).sum() - (t_j * e_j * e_j)\n",
    "    \n",
    "    a = t_j - t_j**2\n",
    "    b = -2 * t_j * X\n",
    "    c = X_star - X**2 - f**2 * sigma**2\n",
    "    \n",
    "    roots = np.roots([a, b, c])\n",
    "    return roots\n",
    "\n",
    "# Experimental parameters\n",
    "sample_size = 132\n",
    "test_splits = [0.8333, 0.1667]\n",
    "absolute_effects = [-2.0, 0.0]\n",
    "mu = 16.\n",
    "sigma = 4.5\n",
    "alpha = 0.10\n",
    "beta = 0.20\n",
    "\n",
    "absolute_mde_roots = solve_absolute_mde_roots(\n",
    "    sample_size=sample_size\n",
    "    ,test_splits=test_splits\n",
    "    ,absolute_effects=absolute_effects\n",
    "    ,mu=mu\n",
    "    ,sigma=sigma\n",
    "    ,alpha=alpha\n",
    "    ,beta=beta\n",
    ")\n",
    "print(\"Absolute MDE roots are:\", absolute_mde_roots)"
   ]
  },
  {
   "cell_type": "code",
   "execution_count": 6,
   "metadata": {},
   "outputs": [
    {
     "name": "stdout",
     "output_type": "stream",
     "text": [
      "Originally, the power of our system is: 0.598281300868307\n"
     ]
    }
   ],
   "source": [
    "def solve_power(sample_size, test_splits, absolute_effects, mu, sigma, alpha):\n",
    "    test_splits = np.array(test_splits)\n",
    "    absolute_effects = np.array(absolute_effects)\n",
    "    mus = np.array([mu + ae for ae in absolute_effects])\n",
    "    \n",
    "    df_num = len(test_splits) - 1\n",
    "    df_denom = sample_size - len(test_splits)\n",
    "    \n",
    "    f = cohens_f(test_splits, mus, sigma)\n",
    "    power = FTestPower().solve_power(\n",
    "        effect_size=f\n",
    "        ,df_num=df_denom\n",
    "        ,df_denom=df_num\n",
    "        ,alpha=alpha\n",
    "        ,power=None\n",
    "        ,ncc=1\n",
    "    )\n",
    "    return power\n",
    "\n",
    "current_power = solve_power(\n",
    "    sample_size=sample_size\n",
    "    ,test_splits=test_splits\n",
    "    ,absolute_effects=absolute_effects\n",
    "    ,mu=mu\n",
    "    ,sigma=sigma\n",
    "    ,alpha=alpha\n",
    ")\n",
    "print(\"Originally, the power of our system is:\", current_power)"
   ]
  },
  {
   "cell_type": "code",
   "execution_count": 7,
   "metadata": {},
   "outputs": [
    {
     "name": "stdout",
     "output_type": "stream",
     "text": [
      "The desired power for the system is: 0.8\n",
      "The power of the system with the positive root is: 0.7999947178139011\n",
      "The power of the system with the negative root is: 0.7999947178139005\n"
     ]
    }
   ],
   "source": [
    "new_absolute_effects__positive_root = np.array([np.max(absolute_mde_roots), 0.])\n",
    "new_absolute_effects__negative_root = np.array([np.min(absolute_mde_roots), 0.])\n",
    "\n",
    "new_power__positive_root = solve_power(\n",
    "    sample_size=sample_size\n",
    "    ,test_splits=test_splits\n",
    "    ,absolute_effects=new_absolute_effects__positive_root\n",
    "    ,mu=mu\n",
    "    ,sigma=sigma\n",
    "    ,alpha=alpha\n",
    ")\n",
    "new_power__negative_root = solve_power(\n",
    "    sample_size=sample_size\n",
    "    ,test_splits=test_splits\n",
    "    ,absolute_effects=new_absolute_effects__negative_root\n",
    "    ,mu=mu\n",
    "    ,sigma=sigma\n",
    "    ,alpha=alpha\n",
    ")\n",
    "\n",
    "print(\"The desired power for the system is:\", (1-beta))\n",
    "print(\"The power of the system with the positive root is:\", new_power__positive_root)\n",
    "print(\"The power of the system with the negative root is:\", new_power__negative_root)"
   ]
  },
  {
   "cell_type": "code",
   "execution_count": 8,
   "metadata": {},
   "outputs": [
    {
     "name": "stdout",
     "output_type": "stream",
     "text": [
      "List of absolute MDEs is: [-2.6266256463594373, 0.6266256463594378]\n"
     ]
    }
   ],
   "source": [
    "def solve_absolute_mdes(sample_size, test_splits, absolute_effects, mu, sigma, alpha, beta):\n",
    "    test_splits = np.array(test_splits)\n",
    "    absolute_effects = np.array(absolute_effects)\n",
    "    \n",
    "    n_groups = len(test_splits)\n",
    "    df_num = n_groups - 1\n",
    "    df_denom = sample_size - n_groups\n",
    "    \n",
    "    f = FTestPower().solve_power(\n",
    "        effect_size=None\n",
    "        ,df_num=df_denom\n",
    "        ,df_denom=df_num\n",
    "        ,alpha=alpha\n",
    "        ,power=(1-beta)\n",
    "        ,ncc=1\n",
    "    )\n",
    "    \n",
    "    mde_list = []\n",
    "    for index in range(n_groups):\n",
    "        t_j = test_splits[index]\n",
    "        e_j = absolute_effects[index]\n",
    "\n",
    "        X = (test_splits * absolute_effects).sum() - (t_j * e_j)\n",
    "        X_star = (test_splits * absolute_effects * absolute_effects).sum() - (t_j * e_j * e_j)\n",
    "\n",
    "        a = t_j - t_j**2\n",
    "        b = -2 * t_j * X\n",
    "        c = X_star - X**2 - f**2 * sigma**2\n",
    "\n",
    "        roots = np.roots([a, b, c])\n",
    "        \n",
    "        if np.iscomplex(roots).sum() > 0:\n",
    "            print(\"MDE calculation found complex roots; returning closest effect size to desired power.\")\n",
    "            min_absolute_effect = roots[0].real\n",
    "        elif e_j >= 0: min_absolute_effect = np.max(roots)\n",
    "        else: min_absolute_effect = np.min(roots)\n",
    "        \n",
    "        mde_list.append(min_absolute_effect)\n",
    "    return mde_list\n",
    "\n",
    "absolute_mdes = solve_absolute_mdes(\n",
    "    sample_size=sample_size\n",
    "    ,test_splits=test_splits\n",
    "    ,absolute_effects=absolute_effects\n",
    "    ,mu=mu\n",
    "    ,sigma=sigma\n",
    "    ,alpha=alpha\n",
    "    ,beta=beta\n",
    ")\n",
    "print(\"List of absolute MDEs is:\", absolute_mdes)"
   ]
  },
  {
   "cell_type": "markdown",
   "metadata": {},
   "source": [
    "# Linear MDE Solution\n",
    "---\n",
    "We may not want to solve for only one specific test cell. Instead, we may want to solve for the MDE across *all* test groups. The user typically makes an assumption for the effect sizes a priori based on evidence or instinct. We will leverage these initial assumptions, then **scale them linearly** to achieve the desired power.\n",
    "\n",
    "Reorganizing Cohen's *f* equation,\n",
    "\n",
    "$$f^2\\sigma^2 = \\Sigma_it_i(\\mu_i-\\bar{\\mu})^2=\\Sigma_it_i(e_i-\\Sigma_kt_ke_k)^2$$\n",
    "\n",
    "For each effect size $e$, we substitute a linearly scaled ($a$) effect size $ae$:\n",
    "\n",
    "$$f^2\\sigma^2 = a^2\\Sigma_it_i(e_i-\\Sigma_kt_ke_k)^2$$"
   ]
  },
  {
   "cell_type": "code",
   "execution_count": 9,
   "metadata": {},
   "outputs": [
    {
     "name": "stdout",
     "output_type": "stream",
     "text": [
      "Absolute MDEs, linearly scaled: [ 2.62662565 -0.        ]\n"
     ]
    }
   ],
   "source": [
    "def solve_absolute_mdes_linear(sample_size, test_splits, absolute_effects, mu, sigma, alpha, beta):\n",
    "    test_splits = np.array(test_splits)\n",
    "    absolute_effects = np.array(absolute_effects)\n",
    "    \n",
    "    n_groups = len(test_splits)\n",
    "    df_num = n_groups - 1\n",
    "    df_denom = sample_size - n_groups\n",
    "    \n",
    "    f = FTestPower().solve_power(\n",
    "        effect_size=None\n",
    "        ,df_num=df_denom\n",
    "        ,df_denom=df_num\n",
    "        ,alpha=alpha\n",
    "        ,power=(1-beta)\n",
    "        ,ncc=1\n",
    "    )\n",
    "    \n",
    "    Y = (test_splits * absolute_effects).sum()\n",
    "    num1 = np.square(absolute_effects - Y)\n",
    "    num = (test_splits * num1).sum()\n",
    "    \n",
    "    a = f * sigma / np.sqrt(num)\n",
    "    \n",
    "    if absolute_effects.sum() < 0: a*= -1\n",
    "    \n",
    "    return a * absolute_effects\n",
    "\n",
    "absolute_mdes_linear = solve_absolute_mdes_linear(\n",
    "    sample_size=sample_size\n",
    "    ,test_splits=test_splits\n",
    "    ,absolute_effects=absolute_effects\n",
    "    ,mu=mu\n",
    "    ,sigma=sigma\n",
    "    ,alpha=alpha\n",
    "    ,beta=beta\n",
    ")\n",
    "print(\"Absolute MDEs, linearly scaled:\", absolute_mdes_linear)"
   ]
  },
  {
   "cell_type": "markdown",
   "metadata": {},
   "source": [
    "# Optimal Test Split Derivation\n",
    "---\n",
    "Using the MDE solution for test group $j$, we can reorder the terms such that:\n",
    "\n",
    "$$0 = t^2_j[-e_j^2] + t_j[e_j^2-2e_jX]+[X^*-X^2-f^2\\sigma^2]$$\n",
    "\n",
    "We check the math below:"
   ]
  },
  {
   "cell_type": "code",
   "execution_count": 11,
   "metadata": {},
   "outputs": [
    {
     "name": "stdout",
     "output_type": "stream",
     "text": [
      "Algebraic output: 0.00000000\n"
     ]
    }
   ],
   "source": [
    "def check_math_2(test_splits, absolute_effects, mu, sigma):\n",
    "    test_splits = np.array(test_splits)\n",
    "    absolute_effects = np.array(absolute_effects)\n",
    "    mus = np.array([mu + ae for ae in absolute_effects])\n",
    "    \n",
    "    f = cohens_f(test_splits, mus, sigma)\n",
    "    \n",
    "    index = 0 # Fix any test group\n",
    "    t_j = test_splits[index]\n",
    "    e_j = absolute_effects[index]\n",
    "    \n",
    "    X = (test_splits * absolute_effects).sum() - (t_j * e_j)\n",
    "    X_star = (test_splits * absolute_effects * absolute_effects).sum() - (t_j * e_j * e_j)\n",
    "    \n",
    "    a = -1 * e_j**2\n",
    "    b = e_j**2 - 2 * e_j * X\n",
    "    c = X_star - X**2 - f**2 * sigma**2\n",
    "    \n",
    "    output = t_j**2 * a + t_j * b + c\n",
    "    print(\"Algebraic output: %.8f\" % output)\n",
    "\n",
    "check_math_2(test_splits, absolute_effects, mu, sigma)"
   ]
  },
  {
   "cell_type": "code",
   "execution_count": 12,
   "metadata": {},
   "outputs": [
    {
     "name": "stdout",
     "output_type": "stream",
     "text": [
      "Appending -1 for group with no experimental lift (group #1)\n",
      "Optimized test splits are: [0.760121581677034, -1]\n"
     ]
    }
   ],
   "source": [
    "def solve_test_splits(sample_size, test_splits, absolute_effects, mu, sigma, alpha, beta):\n",
    "    test_splits = np.array(test_splits)\n",
    "    absolute_effects = np.array(absolute_effects)\n",
    "    \n",
    "    n_groups = len(test_splits)\n",
    "    df_num = n_groups - 1\n",
    "    df_denom = sample_size - n_groups\n",
    "    \n",
    "    f = FTestPower().solve_power(\n",
    "        effect_size=None\n",
    "        ,df_num=df_denom\n",
    "        ,df_denom=df_num\n",
    "        ,alpha=alpha\n",
    "        ,power=(1-beta)\n",
    "        ,ncc=1\n",
    "    )\n",
    "    \n",
    "    split_list = []\n",
    "    for index in range(n_groups):\n",
    "        t_j = test_splits[index]\n",
    "        e_j = absolute_effects[index]\n",
    "        \n",
    "        if e_j == 0:\n",
    "            print(\"Appending -1 for group with no experimental lift (group #\"+str(index)+\")\")\n",
    "            split_list.append(-1)\n",
    "        else:\n",
    "            X = (test_splits * absolute_effects).sum() - (t_j * e_j)\n",
    "            X_star = (test_splits * absolute_effects * absolute_effects).sum() - (t_j * e_j * e_j)\n",
    "\n",
    "            a = -1 * e_j**2\n",
    "            b = e_j**2 - 2 * e_j * X\n",
    "            c = X_star - X**2 - f**2 * sigma**2\n",
    "\n",
    "            roots = np.roots([a, b, c])\n",
    "\n",
    "            if np.iscomplex(roots).sum() > 0:\n",
    "                print(\"MDE calculation found complex roots; returning closest effect size to desired power.\")\n",
    "                split = roots[0].real\n",
    "            else: split = np.max(roots)\n",
    "\n",
    "            split_list.append(split)\n",
    "    return split_list\n",
    "\n",
    "# Experimental parameters\n",
    "sample_size = 132\n",
    "test_splits = [0.8333, 0.1667]\n",
    "absolute_effects = [-2.0, 0.0]\n",
    "mu = 16.\n",
    "sigma = 4.5\n",
    "alpha = 0.10\n",
    "beta = 0.30\n",
    "\n",
    "opt_test_splits = solve_test_splits(\n",
    "    sample_size=sample_size\n",
    "    ,test_splits=test_splits\n",
    "    ,absolute_effects=absolute_effects\n",
    "    ,mu=mu\n",
    "    ,sigma=sigma\n",
    "    ,alpha=alpha\n",
    "    ,beta=beta\n",
    ")\n",
    "print(\"Optimized test splits are:\", opt_test_splits)"
   ]
  },
  {
   "cell_type": "code",
   "execution_count": 13,
   "metadata": {},
   "outputs": [
    {
     "name": "stdout",
     "output_type": "stream",
     "text": [
      "Originally, the power of our system is: 0.598281300868307\n"
     ]
    }
   ],
   "source": [
    "current_power = solve_power(\n",
    "    sample_size=sample_size\n",
    "    ,test_splits=test_splits\n",
    "    ,absolute_effects=absolute_effects\n",
    "    ,mu=mu\n",
    "    ,sigma=sigma\n",
    "    ,alpha=alpha\n",
    ")\n",
    "print(\"Originally, the power of our system is:\", current_power)"
   ]
  },
  {
   "cell_type": "code",
   "execution_count": 15,
   "metadata": {},
   "outputs": [
    {
     "name": "stdout",
     "output_type": "stream",
     "text": [
      "The desired power of the system is: 0.7\n",
      "The power of the system with optimal split is: 0.7000002915296455\n"
     ]
    }
   ],
   "source": [
    "optimal_split = opt_test_splits[0]\n",
    "new_test_splits = [optimal_split, 1-optimal_split]\n",
    "\n",
    "new_power = solve_power(\n",
    "    sample_size=sample_size\n",
    "    ,test_splits=new_test_splits\n",
    "    ,absolute_effects=absolute_effects\n",
    "    ,mu=mu\n",
    "    ,sigma=sigma\n",
    "    ,alpha=alpha\n",
    ")\n",
    "\n",
    "print(\"The desired power of the system is:\", (1-beta))\n",
    "print(\"The power of the system with optimal split is:\", new_power)"
   ]
  },
  {
   "cell_type": "code",
   "execution_count": 16,
   "metadata": {},
   "outputs": [
    {
     "name": "stdout",
     "output_type": "stream",
     "text": [
      "Appending -1 for group with no experimental lift (group #2)\n",
      "Optimized test splits are: [0.5276976330163264, 0.51079272833749, -1]\n"
     ]
    }
   ],
   "source": [
    "# Experimental parameters\n",
    "sample_size = 400\n",
    "test_splits = [0.4, 0.4, 0.2]\n",
    "absolute_effects = [-2.0, -1.0, 0.0]\n",
    "mu = 16.\n",
    "sigma = 4.5\n",
    "alpha = 0.10\n",
    "beta = 0.20\n",
    "\n",
    "opt_test_splits = solve_test_splits(\n",
    "    sample_size=sample_size\n",
    "    ,test_splits=test_splits\n",
    "    ,absolute_effects=absolute_effects\n",
    "    ,mu=mu\n",
    "    ,sigma=sigma\n",
    "    ,alpha=alpha\n",
    "    ,beta=beta\n",
    ")\n",
    "print(\"Optimized test splits are:\", opt_test_splits)"
   ]
  },
  {
   "cell_type": "code",
   "execution_count": 17,
   "metadata": {},
   "outputs": [
    {
     "name": "stdout",
     "output_type": "stream",
     "text": [
      "Originally, the power of our system is: 0.9132807915248896\n"
     ]
    }
   ],
   "source": [
    "current_power = solve_power(\n",
    "    sample_size=sample_size\n",
    "    ,test_splits=test_splits\n",
    "    ,absolute_effects=absolute_effects\n",
    "    ,mu=mu\n",
    "    ,sigma=sigma\n",
    "    ,alpha=alpha\n",
    ")\n",
    "print(\"Originally, the power of our system is:\", current_power)"
   ]
  },
  {
   "cell_type": "code",
   "execution_count": 19,
   "metadata": {},
   "outputs": [
    {
     "name": "stdout",
     "output_type": "stream",
     "text": [
      "The desired power of the system is: 0.8\n",
      "After updating test split for group #0 power is: 0.7999991758656374\n",
      "After updating test split for group #1 power is: 0.7999991758656372\n"
     ]
    }
   ],
   "source": [
    "print(\"The desired power of the system is:\", (1-beta))\n",
    "\n",
    "control_group_index = opt_test_splits.index(-1)\n",
    "\n",
    "for i, split in enumerate(opt_test_splits):\n",
    "    if split != -1:\n",
    "        new_test_splits = test_splits.copy()\n",
    "        prev_test_split = test_splits[i]\n",
    "        new_test_splits[i] = split\n",
    "        new_test_splits[control_group_index] -= (split - prev_test_split)\n",
    "        new_power = solve_power(\n",
    "            sample_size=sample_size\n",
    "            ,test_splits=new_test_splits\n",
    "            ,absolute_effects=absolute_effects\n",
    "            ,mu=mu\n",
    "            ,sigma=sigma\n",
    "            ,alpha=alpha\n",
    "        )\n",
    "        print(\"After updating test split for group #\"+str(i)+\" power is:\", new_power)"
   ]
  },
  {
   "cell_type": "markdown",
   "metadata": {},
   "source": [
    "# Minimize control split\n",
    "---\n",
    "A common request for a group running experimentation is to minimize the control split in oder to maximize the amount of potential value the treatment creates. The problem with minimizing the control group is that the way we inflate the other test groups ($>2$) is non-trivial. Let's assume that we would **increase the test groups linearly** as we minimize the control group.\n",
    "\n",
    "From our system above,\n",
    "\n",
    "$$f^2\\sigma^2 = \\Sigma_it_i(e_i-\\Sigma_kt_ke_k)^2$$\n",
    "\n",
    "Define $Y=\\Sigma_kt_ke_k=\\Sigma^*_kt_ke_k + e_jt_j=\\Sigma_k^*t_ke_k$ where index $j$ corresponds with the control (hold-out) group ($e_j=0$). Thus,\n",
    "\n",
    "\n",
    "$$f^2\\sigma^2 = \\Sigma_it_i(e_i-\\Sigma_kt_ke_k)^2 = \\Sigma_it_i(e_i-Y)^2$$\n",
    "\n",
    "Partitioning out the control group $j$ yields:\n",
    "\n",
    "$$\\Sigma_it_i(e_i-Y)^2 = \\Sigma_i^*t_i(e_i-Y)^2 + t_j(e_j-Y)^2=\\Sigma_i^*t_ie_i^2-2Y\\Sigma^*_it_ie_i+Y^2\\Sigma_i^*t_i+t_jY^2$$\n",
    "\n",
    "Since the test splits add to one ($\\Sigma_kt_k=1$), then $\\Sigma_i^*t_i = (1-t_j)$. Let's also define $Y^*=\\Sigma^*_it_ie_i^2. Substitution yields\n",
    "\n",
    "$$\\Sigma_i^*t_ie_i^2-2Y^2+Y^2\\Sigma^*_it_i+t_jY^2 = Y^*-2Y^2+Y^2(1-t_j)+t_jY^2=Y^*-Y^2$$\n",
    "\n",
    "Thus, we find $f^2\\sigma^2=Y^*-Y^2$. Because there are no control group splits $t_j$, we can solve for the factor $a$ that will linearly increase the splits:\n",
    "\n",
    "$$a^2[Y^2]+a[-Y^*]+[f^2\\sigma^2] = 0$$"
   ]
  },
  {
   "cell_type": "code",
   "execution_count": 24,
   "metadata": {},
   "outputs": [
    {
     "name": "stdout",
     "output_type": "stream",
     "text": [
      "True test split: 0.4\n",
      "Test split roots: [0.4 0.4 0.2]\n"
     ]
    }
   ],
   "source": [
    "def solve_test_split_control(test_splits, absolute_effects, mu, sigma):\n",
    "    test_splits = np.array(test_splits)\n",
    "    absolute_effects = np.array(absolute_effects)\n",
    "    mus = np.array([mu + ae for ae in absolute_effects])\n",
    "    \n",
    "    f = cohens_f(test_splits, mus, sigma)\n",
    "    \n",
    "    Y = (test_splits * absolute_effects).sum()\n",
    "    Y_star = (test_splits * absolute_effects * absolute_effects).sum()\n",
    "    \n",
    "    a = Y**2\n",
    "    b = -1 * Y_star\n",
    "    c = f**2 * sigma**2\n",
    "    \n",
    "    roots = np.roots([a, b, c])\n",
    "    root = np.max(roots)\n",
    "    \n",
    "    control_index = np.argwhere(absolute_effects == 0)\n",
    "    control_split = 1 - root + root * (test_splits[control_index].sum())\n",
    "    \n",
    "    if control_split <= 0:\n",
    "        print(\"Forcing control group to at least 1%\")\n",
    "        root = 0.99 / (1- test_splits[control_index].sum())\n",
    "        control_split = (1-root) + root * (test_splits[control_index].sum())\n",
    "    \n",
    "    opt_splits = root * test_splits\n",
    "    opt_splits[control_index] = control_split / len(control_index)\n",
    "    return opt_splits\n",
    "\n",
    "test_split_control = solve_test_split_control(test_splits, absolute_effects, mu, sigma)\n",
    "print(\"True test split:\", test_splits[0])\n",
    "print(\"Test split roots:\", test_split_control)"
   ]
  },
  {
   "cell_type": "code",
   "execution_count": null,
   "metadata": {},
   "outputs": [],
   "source": []
  }
 ],
 "metadata": {
  "kernelspec": {
   "display_name": "Python 3",
   "language": "python",
   "name": "python3"
  },
  "language_info": {
   "codemirror_mode": {
    "name": "ipython",
    "version": 3
   },
   "file_extension": ".py",
   "mimetype": "text/x-python",
   "name": "python",
   "nbconvert_exporter": "python",
   "pygments_lexer": "ipython3",
   "version": "3.7.7"
  }
 },
 "nbformat": 4,
 "nbformat_minor": 4
}
