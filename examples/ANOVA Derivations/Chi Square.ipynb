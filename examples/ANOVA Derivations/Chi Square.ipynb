{
 "cells": [
  {
   "cell_type": "markdown",
   "metadata": {},
   "source": [
    "# Chi Square\n",
    "---"
   ]
  },
  {
   "cell_type": "code",
   "execution_count": 1,
   "metadata": {},
   "outputs": [],
   "source": [
    "# Standard imports\n",
    "import matplotlib.pyplot as plt\n",
    "import numpy as np\n",
    "import pandas as pd\n",
    "%matplotlib inline\n",
    "\n",
    "# Import stats functions\n",
    "from statsmodels.stats.power import GofChisquarePower"
   ]
  },
  {
   "cell_type": "markdown",
   "metadata": {},
   "source": [
    "# MDE Derivation\n",
    "---\n",
    "Let us solve for the MDE for a single test group using what we know. Note that our power tool can solve for a normalized MDE (Cohen's *w*) for our system. However, we would like to disseect this value and find the minimal effect size for each independent test group in the experiment.\n",
    "\n",
    "The normalized effect size for an experiment with binary outcome variable and multiple ($n>2$) experimental groups is Cohen's $w$. This value is derived using contingency tables, but do not require the *actual* values in each cell of the table. This is important, because the probabilities in each test cell allow us to abstract the derivation to situations in which we do not know sample size $N$. To get a better understanding, let's take a look at Cohen's $w$ equation:\n",
    "\n",
    "$$w = \\sqrt{\\Sigma_i \\frac{(E_i - O_i)^2}{E_i}},$$\n",
    "\n",
    "where $E_i$ is the probability of cell $i$ under the Null hypothesis (i.e., the value expected if no treatment group experienced an effect) and $O_i$ is the probability of cell $i$ in the observed population. Comparing these two contingency tables ($O$ and $E$) allows us to test how likely the observed values were the effect of random chance alone.\n",
    "\n",
    "To start, let's present a fully built-out set of contingency tables for our \"system\":\n",
    "\n",
    "**Observed rates ($O_i$):**\n",
    "\n",
    "Experimental Group | Success Rate (1) | Failure Rate (0) | *Marginal*\n",
    "--- | --- | --- | ---\n",
    "Treat 1 | $t_i \\times (p+e_1)$ | $t_1 \\times (1-p-e_1)$ | $t_1$\n",
    "Treat 2 | $t_i \\times (p+e_2)$ | $t_2 \\times (1-p-e_2)$ | $t_2$\n",
    "... | ... | ... | ...\n",
    "Control | $t_n \\times (p+e_n)$ | $t_n \\times (1-p-e_n)$ | $t_n$\n",
    "*Marginal* | $p + \\Sigma_it_ie_i$ | $1-p-\\Sigma_it_ie_i$ | $1$\n",
    "\n",
    "**Expected rates ($E_i$):**\n",
    "\n",
    "Experimental Group | Success Rate (1) | Failure Rate (0) | *Marginal*\n",
    "--- | --- | --- | ---\n",
    "Treat 1 | $t_i \\times (p+\\Sigma_it_ie_i)$ | $t_1 \\times (1-p-\\Sigma_it_ie_i)$ | $t_1$\n",
    "Treat 2 | $t_i \\times (p+\\Sigma_it_ie_i)$ | $t_2 \\times (1-p-\\Sigma_it_ie_i)$ | $t_2$\n",
    "... | ... | ... | ...\n",
    "Control | $t_n \\times (p+\\Sigma_it_ie_i)$ | $t_n \\times (1-p-\\Sigma_it_ie_i)$ | $t_n$\n",
    "*Marginal* | $p + \\Sigma_it_ie_i$ | $1-p-\\Sigma_it_ie_i$ | $1$\n",
    "\n",
    "Note that we could specify an effect $e_i$ for each test cell. If we hold any one of these variables {$t_i$, $e_i$} constant, we can solve for it analytically using algebra. That is, we start with:\n",
    "\n",
    "$$w = \\sqrt{\\Sigma_i\\frac{(E_i-O_i)^2}{E_i}},$$\n",
    "\n",
    "where we substitute $E_i$ and $O_i$ with our input above. *After lots of algebra...*\n",
    "\n",
    "Variable | Description\n",
    "--- | ---\n",
    "$w$ | Cohen's $w$, as defined above\n",
    "$j$ | Test group to \"optimize\"\n",
    "$e_j$| Absolute effect of test group $j$\n",
    "$t_j$ | Test split (i.e., percent of sample size) for test group $j$\n",
    "$p$ | Natural rate of success\n",
    "$X = \\Sigma_i e_it_i$ | A constant that appears often in the algebraic output\n",
    "$\\Sigma^*_i$ | Summation across all test groups *excluding test group* $j$\n",
    "\n",
    "***Second order polynomial used to solve for absolute effect size of test group $j$:***\n",
    "\n",
    "$$0 = e_j^2[t_j^2(w^2-1)+t_j]+e_j[w^2t_j(2p-1)+2Xt_j(w^2-1)]+[w^2p(p-1)+2w^2Xp-w^2X(1-X)-X^2+(\\Sigma^*_it_ie_i^2)]$$\n",
    "\n",
    "***Second order polynomial used to solve for optimal test split of test group $j$:***\n",
    "$$0 = t_j^2[e_j^2(w^2-1)]+t_j[e_j^2+e_jw^2(2p-1)+2Xe_j(w^2-1)]+[w^2p(p-1)+2w^2Xp-w^2X(1-X)-X^2+(\\Sigma^*_it_ie_i^2)]$$"
   ]
  },
  {
   "cell_type": "markdown",
   "metadata": {},
   "source": [
    "Those are some messy equestions ... Let's check that the math is correct.\n",
    "\n",
    "Below we walk through checks to ensure the polynomial for aboslute effect size (MDE) is correct. First, we need to calculate Cohen's *w*:"
   ]
  },
  {
   "cell_type": "code",
   "execution_count": 2,
   "metadata": {},
   "outputs": [
    {
     "name": "stdout",
     "output_type": "stream",
     "text": [
      "Cohen's w is: 0.04226131910509266\n"
     ]
    }
   ],
   "source": [
    "def cohens_w(natural_rate, test_group_splits, test_group_lifts):\n",
    "    assert round(test_group_splits.sum(), 4) == 1\n",
    "    assert np.max(test_group_lifts + natural_rate) < 1. and np.min(test_group_lifts + natural_rate) > 0.\n",
    "    \n",
    "    observed_success = test_group_splits * (test_group_lifts + natural_rate)\n",
    "    observed_failure = test_group_splits * (1 - test_group_lifts - natural_rate)\n",
    "    \n",
    "    observed_table = np.stack([observed_success, observed_failure])\n",
    "    \n",
    "    assert round(observed_table.sum(), 4) == 1.\n",
    "    \n",
    "    # Note that marginal success is `observed_table[0].sum()`\n",
    "    expected_success = observed_table[0].sum() * test_group_splits\n",
    "    expected_failure = observed_table[1].sum() * test_group_splits\n",
    "    expected_table = np.stack([expected_success, expected_failure])\n",
    "    \n",
    "    assert round(expected_table.sum(), 4) == 1.\n",
    "    \n",
    "    w = np.sqrt(np.sum(np.square((expected_table-observed_table))/expected_table))\n",
    "    return w\n",
    "\n",
    "natural_rate_of_success = 0.35\n",
    "experiment_splits = np.array([0.1, 0.2, 0.3, 0.4])\n",
    "experiment_lifts = np.array([0.0, 0.04, 0.05, 0.07])\n",
    "w = cohens_w(natural_rate_of_success, experiment_splits, experiment_lifts)\n",
    "print(\"Cohen's w is:\", w)"
   ]
  },
  {
   "cell_type": "markdown",
   "metadata": {},
   "source": [
    "In the contingency tables above, we state that the marginal rate of success is $(p+\\Sigma_it_ie_i)$ and the marginal rate of failure is $(1-p-\\Sigma_it_ie_i)$.\n",
    "\n",
    "Let's confirm this is truly the case to cover our initial assumptions:"
   ]
  },
  {
   "cell_type": "code",
   "execution_count": 4,
   "metadata": {},
   "outputs": [
    {
     "name": "stdout",
     "output_type": "stream",
     "text": [
      "Marginal success: 0.401\n",
      "(Natural rate + Const): 0.40099999999999997\n",
      "\n",
      "Marginal failure: 0.599\n",
      "(1 - Natural rate - Const): 0.599\n"
     ]
    }
   ],
   "source": [
    "def check_math_0(natural_rate, test_group_splits, test_group_lifts):\n",
    "    observed_success = test_group_splits * (test_group_lifts + natural_rate)\n",
    "    observed_failure = test_group_splits * (1 - test_group_lifts - natural_rate)\n",
    "    \n",
    "    observed_table = np.stack([observed_success, observed_failure])\n",
    "    \n",
    "    const = np.sum(test_group_splits * test_group_lifts)\n",
    "    \n",
    "    print(\"Marginal success:\", observed_table[0].sum())\n",
    "    print(\"(Natural rate + Const):\", natural_rate + const)\n",
    "    print(\"\\nMarginal failure:\", observed_table[1].sum())\n",
    "    print(\"(1 - Natural rate - Const):\", 1 - natural_rate - const)\n",
    "\n",
    "check_math_0(natural_rate_of_success, experiment_splits, experiment_lifts)"
   ]
  },
  {
   "cell_type": "markdown",
   "metadata": {},
   "source": [
    "Let us show that:\n",
    "\n",
    "$$w=\\sqrt{\\Sigma_i\\frac{(E_i-O-i)^2}{E_i}} = \\sqrt{\\Sigma_i\\frac{t_i(\\Sigma_ke_kt_k-e_i)^2}{(p+\\Sigma_ke_kt_k)(1-p-\\Sigma_ke_kt_k)}}$$"
   ]
  },
  {
   "cell_type": "code",
   "execution_count": 5,
   "metadata": {},
   "outputs": [
    {
     "name": "stdout",
     "output_type": "stream",
     "text": [
      "Cohen's w: 0.04226131910509266\n",
      "Algebraic output: 0.04226131910509263\n"
     ]
    }
   ],
   "source": [
    "def check_math_1(natural_rate, test_group_splits, test_group_lifts):\n",
    "    w = cohens_w(natural_rate, test_group_splits, test_group_lifts)\n",
    "    \n",
    "    const = np.sum(test_group_splits * test_group_lifts)\n",
    "    summation = 0\n",
    "    for j, split in enumerate(test_group_splits):\n",
    "        summation += split * np.square(const - test_group_lifts[j])\n",
    "    summation /= ((natural_rate + const) * (1 - natural_rate - const))\n",
    "    \n",
    "    print(\"Cohen's w:\", w)\n",
    "    print(\"Algebraic output:\", np.sqrt(summation))\n",
    "\n",
    "check_math_1(natural_rate_of_success, experiment_splits, experiment_lifts)"
   ]
  },
  {
   "cell_type": "markdown",
   "metadata": {},
   "source": [
    "Verify that the following holds:\n",
    "\n",
    "$$w=\\sqrt{\\frac{e_j^2[t_j-t_j^2]+e_j[-2Xt_j]+[-X^2+\\Sigma^*_it_ie_i^2]}{(p+X+e_jt_j)(1-p-E-e_jt_j)}}$$"
   ]
  },
  {
   "cell_type": "code",
   "execution_count": 19,
   "metadata": {},
   "outputs": [
    {
     "name": "stdout",
     "output_type": "stream",
     "text": [
      "Cohen's w: 0.04226131910509266\n",
      "Algebraic output: 0.042261319105092635\n"
     ]
    }
   ],
   "source": [
    "def check_math_2(natural_rate, test_group_splits, test_group_lifts):\n",
    "    w = cohens_w(natural_rate, test_group_splits, test_group_lifts)\n",
    "    \n",
    "    index = 2 # random 0-3\n",
    "    e_j = test_group_lifts[index]\n",
    "    t_j = test_group_lifts[index]\n",
    "    \n",
    "    X = np.sum(test_group_splits * test_group_lifts) - (e_j * t_j)\n",
    "    other_const = np.sum(test_group_splits * test_group_lifts * test_group_lifts) - (t_j * e_j * e_j)\n",
    "    \n",
    "    a = e_j**2 * (t_j - t_j**2)\n",
    "    b = e_j * -2 * X * t_j\n",
    "    c = -1 * X**2 + other_const\n",
    "    \n",
    "    num = a + b + c\n",
    "    denom = (natural_rate + X + e_j * t_j) * (1 - natural_rate - X - e_j * t_j)\n",
    "    \n",
    "    print(\"Cohen's w:\", w)\n",
    "    print(\"Algebraic output:\", np.sqrt(num/denom))\n",
    "\n",
    "check_math_2(natural_rate_of_success, experiment_splits, experiment_lifts)"
   ]
  },
  {
   "cell_type": "markdown",
   "metadata": {},
   "source": [
    "Factoring the equation above out, we solve for the following polynomial:\n",
    "\n",
    "$$0 = e_j^2[t_j^2(w^2-1)+t_j]+e_j[w^2t_j(2p-1)+2Xt_j(w^2-1)]+[w^2p(p-1)+2w^2Xp-w^2X(1-X)-X^2+(\\Sigma^*_it_ie_i^2)]$$"
   ]
  },
  {
   "cell_type": "code",
   "execution_count": 22,
   "metadata": {},
   "outputs": [
    {
     "name": "stdout",
     "output_type": "stream",
     "text": [
      "Algebraic output: -0.000000000\n"
     ]
    }
   ],
   "source": [
    "def check_math_3(natural_rate, test_group_splits, test_group_lifts):\n",
    "    w = cohens_w(natural_rate, test_group_splits, test_group_lifts)\n",
    "    w2 = w**2\n",
    "    \n",
    "    index = 2 # random 0-3\n",
    "    e_j = test_group_lifts[index]\n",
    "    t_j = test_group_lifts[index]\n",
    "    \n",
    "    X = np.sum(test_group_splits * test_group_lifts) - (e_j * t_j)\n",
    "    other_const = np.sum(test_group_splits * test_group_lifts * test_group_lifts) - (t_j * e_j * e_j)\n",
    "    \n",
    "    a = t_j**2 * (w2-1) + t_j\n",
    "    b = w2 * t_j * (2*natural_rate-1) + 2 * X * t_j * (w2-1)\n",
    "    c = w2 * natural_rate * (natural_rate-1) + 2 * w2 * X * natural_rate - w2 * X * (1-X) - X**2 + other_const\n",
    "    \n",
    "    output = e_j**2 * a + e_j * b + c\n",
    "    \n",
    "    print(\"Algebraic output: %.9f\" % output)\n",
    "\n",
    "check_math_3(natural_rate_of_success, experiment_splits, experiment_lifts)"
   ]
  },
  {
   "cell_type": "markdown",
   "metadata": {},
   "source": [
    "# Test the derivation\n",
    "\n",
    "Now that we have our polynomial we can solve for $e_j$, which is our absolute minimum effect size for test group $j$ given a minimal detect size for the entire system."
   ]
  },
  {
   "cell_type": "code",
   "execution_count": 23,
   "metadata": {},
   "outputs": [
    {
     "name": "stdout",
     "output_type": "stream",
     "text": [
      "Absolute MDE roots are: [-0.07791445  0.07131954]\n"
     ]
    }
   ],
   "source": [
    "# Arbitrarily solve for first group in arrays (test split / lifts) passed; generalize to any group later\n",
    "def solve_absolute_mde_roots(sample_size, group_splits, group_lifts, natural_rate, alpha=0.05, beta=0.20):\n",
    "    w = GofChisquarePower().solve_power(\n",
    "        nobs=sample_size\n",
    "        ,power=(1-beta)\n",
    "        ,alpha=alpha\n",
    "        ,n_bins=len(group_splits)\n",
    "    )\n",
    "    w2 = w**2\n",
    "    \n",
    "    index = 0 # random 0-1\n",
    "    e_j = group_lifts[index]\n",
    "    t_j = group_splits[index]\n",
    "    \n",
    "    X = np.sum(group_splits * group_lifts) - (e_j * t_j)\n",
    "    other_const = np.sum(group_splits * group_lifts * group_lifts) - (e_j * e_j * t_j)\n",
    "    \n",
    "    a = t_j**2 * (w2-1) + t_j\n",
    "    b = w2 * t_j * (2*natural_rate-1) + 2 * X * t_j * (w2-1)\n",
    "    c = w2 * natural_rate * (natural_rate-1) + 2 * w2 * X * natural_rate - w2 * X * (1-X) - X**2 + other_const\n",
    "    \n",
    "    roots = np.roots([a, b, c])\n",
    "    return roots\n",
    "\n",
    "sample_size = 3500\n",
    "natural_rate_of_success = 0.65\n",
    "experiment_splits = np.array([0.9, 0.1])\n",
    "experiment_lifts = np.array([0.08, 0.0])\n",
    "alpha = 0.05\n",
    "power = 0.80\n",
    "\n",
    "absolute_mde_roots = solve_absolute_mde_roots(\n",
    "    sample_size\n",
    "    ,experiment_splits\n",
    "    ,experiment_lifts\n",
    "    ,natural_rate_of_success\n",
    "    ,alpha\n",
    "    ,(1-power)\n",
    ")\n",
    "print(\"Absolute MDE roots are:\", absolute_mde_roots)"
   ]
  },
  {
   "cell_type": "markdown",
   "metadata": {},
   "source": [
    "These roots correspond with the minimal detectable effect in either direction of our natural resolution rate. If we were originally assuming an effect in the positive direction, we should take the positive root (`max`); otherwise, take the negative root (`min`).\n",
    "\n",
    "Let's confirm that both of these roots get us to the desired power:"
   ]
  },
  {
   "cell_type": "code",
   "execution_count": 31,
   "metadata": {},
   "outputs": [
    {
     "name": "stdout",
     "output_type": "stream",
     "text": [
      "Originally, the power of our system is: 0.8867205271525038\n"
     ]
    }
   ],
   "source": [
    "def solve_power(sample_size, experiment_splits, experiment_lifts, natural_rate_of_success, alpha):\n",
    "    e = cohens_w(natural_rate_of_success, np.array(experiment_splits), np.array(experiment_lifts))\n",
    "    power = GofChisquarePower().solve_power(\n",
    "        effect_size=e\n",
    "        ,nobs=sample_size\n",
    "        ,alpha=alpha\n",
    "        ,n_bins=len(experiment_splits)\n",
    "    )\n",
    "    return power\n",
    "\n",
    "current_power = solve_power(sample_size, experiment_splits, experiment_lifts, natural_rate_of_success, alpha)\n",
    "print(\"Originally, the power of our system is:\", current_power)"
   ]
  },
  {
   "cell_type": "code",
   "execution_count": 33,
   "metadata": {},
   "outputs": [
    {
     "name": "stdout",
     "output_type": "stream",
     "text": [
      "The desired power for our system is: 0.8\n",
      "The power of our system with the postivie root is: 0.8000249787422251\n",
      "The power of our system with the negative root is: 0.8000249787422256\n"
     ]
    }
   ],
   "source": [
    "new_experiment_lifts__positive_root = np.array([np.max(absolute_mde_roots), 0.0])\n",
    "new_experiment_lifts__negative_root = np.array([np.min(absolute_mde_roots), 0.0])\n",
    "\n",
    "new_power__positive_root = solve_power(\n",
    "    sample_size=sample_size\n",
    "    ,experiment_splits=experiment_splits\n",
    "    ,experiment_lifts=new_experiment_lifts__positive_root\n",
    "    ,natural_rate_of_success=natural_rate_of_success\n",
    "    ,alpha=alpha\n",
    ")\n",
    "new_power__negative_root = solve_power(\n",
    "    sample_size=sample_size\n",
    "    ,experiment_splits=experiment_splits\n",
    "    ,experiment_lifts=new_experiment_lifts__negative_root\n",
    "    ,natural_rate_of_success=natural_rate_of_success\n",
    "    ,alpha=alpha\n",
    ")\n",
    "\n",
    "print(\"The desired power for our system is:\", power)\n",
    "print(\"The power of our system with the postivie root is:\", new_power__positive_root)\n",
    "print(\"The power of our system with the negative root is:\", new_power__negative_root)"
   ]
  },
  {
   "cell_type": "markdown",
   "metadata": {},
   "source": [
    "## Side case: Complex roots\n",
    "\n",
    "Because we are solving for a second-order polynomial, we may get into a scenario where these roots are complex. Let's examine this side case:"
   ]
  },
  {
   "cell_type": "code",
   "execution_count": 34,
   "metadata": {},
   "outputs": [
    {
     "name": "stdout",
     "output_type": "stream",
     "text": [
      "Absolute MDE roots are: [0.05216989+0.02369241j 0.05216989-0.02369241j]\n"
     ]
    }
   ],
   "source": [
    "sample_size = 2800\n",
    "experiment_splits = [0.4, 0.4, 0.2]\n",
    "experiment_lifts = [0.06, 0.08, 0.0]\n",
    "natural_rate_of_success = 0.65\n",
    "alpha = 0.05\n",
    "power = 0.80\n",
    "\n",
    "absolute_mde_roots = solve_absolute_mde_roots(\n",
    "    sample_size=sample_size\n",
    "    ,group_splits=np.array(experiment_splits)\n",
    "    ,group_lifts=np.array(experiment_lifts)\n",
    "    ,natural_rate=natural_rate_of_success\n",
    "    ,alpha=alpha\n",
    "    ,beta=(1-power)\n",
    ")\n",
    "print(\"Absolute MDE roots are:\", absolute_mde_roots)"
   ]
  },
  {
   "cell_type": "markdown",
   "metadata": {},
   "source": [
    "We can visualize the power as we vary the effect size for this test group:"
   ]
  },
  {
   "cell_type": "code",
   "execution_count": 35,
   "metadata": {},
   "outputs": [
    {
     "data": {
      "image/png": "[encoded data removed]",
      "text/plain": [
       "<Figure size 432x288 with 1 Axes>"
      ]
     },
     "metadata": {
      "needs_background": "light"
     },
     "output_type": "display_data"
    },
    {
     "data": {
      "text/plain": [
       "<Figure size 432x288 with 0 Axes>"
      ]
     },
     "metadata": {},
     "output_type": "display_data"
    }
   ],
   "source": [
    "imaginary_number = absolute_mde_roots[0]\n",
    "norm = np.linalg.norm(imaginary_number)\n",
    "\n",
    "x_axis = np.linspace(norm-0.1, norm+0.1, 20)\n",
    "y_axis = [\n",
    "    solve_power(sample_size, experiment_splits, [x]+experiment_lifts[1:], natural_rate_of_success, alpha)\n",
    "    for x in x_axis\n",
    "]\n",
    "plt.plot(x_axis, y_axis)\n",
    "plt.axhline(0.8, c='blue', ls=':', label='80% Power')\n",
    "plt.axvline(imaginary_number.real, c='orange', ls=':', label='Real part of complex root')\n",
    "plt.axvline(norm, c='red', ls=':', label='Magnitude of complex root')\n",
    "plt.xlim([0, 0.15])\n",
    "plt.ylim([0.75, 1.0])\n",
    "plt.xlabel('Absolute effect size')\n",
    "plt.ylabel('Power')\n",
    "plt.legend()\n",
    "plt.figure();"
   ]
  },
  {
   "cell_type": "markdown",
   "metadata": {},
   "source": [
    "Wow! We can never reduce power to (or below) 80% by varying the effect of this test group **alone**! Instead, it looks like we get closest to our 80% power goal by examining the real part of the complex root."
   ]
  },
  {
   "cell_type": "markdown",
   "metadata": {},
   "source": [
    "# Finalize MDE solution"
   ]
  },
  {
   "cell_type": "code",
   "execution_count": 41,
   "metadata": {},
   "outputs": [
    {
     "name": "stdout",
     "output_type": "stream",
     "text": [
      "MDE calculation found complex roots; returning closest effect size to desired power.\n",
      "List of absolute MDEs is: [0.052169892640413856, 0.07155504748495778, 0.13096763556570395]\n"
     ]
    }
   ],
   "source": [
    "def solve_absolute_mdes(sample_size, group_splits, group_lifts, natural_rate, alpha=0.05, beta=0.20):\n",
    "    group_splits = np.array(group_splits)\n",
    "    group_lifts = np.array(group_lifts)\n",
    "    \n",
    "    n_groups = len(group_splits)\n",
    "    w = GofChisquarePower().solve_power(\n",
    "        nobs=sample_size\n",
    "        ,power=(1-beta)\n",
    "        ,alpha=alpha\n",
    "        ,n_bins=n_groups\n",
    "    )\n",
    "    w2 = w**2\n",
    "    \n",
    "    mde_list = []\n",
    "    for index in range(n_groups):\n",
    "        e_j = group_lifts[index]\n",
    "        t_j = group_splits[index]\n",
    "        \n",
    "        X = np.sum(group_splits * group_lifts) - (e_j * t_j)\n",
    "        other_const = np.sum(group_splits * group_lifts * group_lifts) - (t_j * e_j * e_j)\n",
    "        \n",
    "        a = t_j**2 * (w2-1) + t_j\n",
    "        b = w2 * t_j * (2*natural_rate-1) + 2 * X * t_j * (w2-1)\n",
    "        c = w2 * natural_rate * (natural_rate-1) + 2 * w2 * X * natural_rate - w2 * X * (1-X) - X**2 + other_const\n",
    "        \n",
    "        roots = np.roots([a, b, c])\n",
    "        \n",
    "        if np.iscomplex(roots).sum() > 0:\n",
    "            print(\"MDE calculation found complex roots; returning closest effect size to desired power.\")\n",
    "            min_absolute_effect = roots[0].real\n",
    "        elif e_j >= 0: min_absolute_effect = np.max(roots)\n",
    "        else: min_absolute_effect = np.min(roots)\n",
    "        \n",
    "        mde_list.append(min_absolute_effect)\n",
    "    return mde_list\n",
    "\n",
    "sample_size = 2800\n",
    "experiment_splits = [0.4, 0.4, 0.2]\n",
    "experiment_lifts = [0.06, 0.08, 0.0]\n",
    "natural_rate_of_success = 0.65\n",
    "alpha = 0.05\n",
    "power = 0.80\n",
    "\n",
    "absolute_mdes = solve_absolute_mdes(\n",
    "    sample_size=sample_size\n",
    "    ,group_splits=experiment_splits\n",
    "    ,group_lifts=experiment_lifts\n",
    "    ,natural_rate=natural_rate_of_success\n",
    "    ,alpha=alpha\n",
    "    ,beta=(1-power)\n",
    ")\n",
    "print(\"List of absolute MDEs is:\", absolute_mdes)"
   ]
  },
  {
   "cell_type": "code",
   "execution_count": 42,
   "metadata": {},
   "outputs": [
    {
     "data": {
      "text/plain": [
       "0.8000023049835844"
      ]
     },
     "execution_count": 42,
     "metadata": {},
     "output_type": "execute_result"
    }
   ],
   "source": [
    "solve_power(\n",
    "    sample_size=sample_size\n",
    "    ,experiment_splits=experiment_splits\n",
    "    ,experiment_lifts=[0.06,0.08,absolute_mdes[-1]]\n",
    "    ,natural_rate_of_success=natural_rate_of_success\n",
    "    ,alpha=alpha\n",
    ")"
   ]
  },
  {
   "cell_type": "markdown",
   "metadata": {},
   "source": [
    "# Linear MDE solution\n",
    "---\n",
    "Note that we may not want to fix only one test cell. Instead, there may be applications in which we want to scale up/down *all* test groups. The user typically makes an assumption for effect sizes a priori based on evidence or instinct. We will leverage these initial assumptions, then **scale them linearly** to achieve the desired power.\n",
    "\n",
    "Recall from our derivation we find:\n",
    "\n",
    "$$w=\\sqrt{\\Sigma_i\\frac{(E_i-O-i)^2}{E_i}} = \\sqrt{\\Sigma_i\\frac{t_i(\\Sigma_ke_kt_k-e_i)^2}{(p+\\Sigma_ke_kt_k)(1-p-\\Sigma_ke_kt_k)}}$$\n",
    "\n",
    "Let us substitute all $e$ for $ae$, where $a$ is our scaling factor for **all** test cells. This substitution leads to the following:\n",
    "\n",
    "$$w = \\sqrt{\\Sigma_i\\frac{a^2t_i(\\Sigma_ke_kt_k-e_i)^2}{(p+a\\Sigma_ke_kt_k)(1-p-a\\Sigma_ke_kt_k)}}$$\n",
    "\n",
    "This allows us to solve for $a$ with another second-order polynomial."
   ]
  },
  {
   "cell_type": "code",
   "execution_count": 46,
   "metadata": {},
   "outputs": [
    {
     "name": "stdout",
     "output_type": "stream",
     "text": [
      "Absolute MDE linearly scaled is: [0.07131954 0.        ]\n"
     ]
    }
   ],
   "source": [
    "def solve_absolute_mde_linear(sample_size, test_splits, absolute_effect_sizes, natural_rate, alpha, beta):\n",
    "    test_splits = np.array(test_splits)\n",
    "    absolute_effect_sizes = np.array(absolute_effect_sizes)\n",
    "    p = natural_rate\n",
    "    \n",
    "    n_groups = len(test_splits)\n",
    "    w = GofChisquarePower().solve_power(\n",
    "        nobs=sample_size\n",
    "        ,power=(1-beta)\n",
    "        ,alpha=alpha\n",
    "        ,n_bins=n_groups\n",
    "    )\n",
    "    w2 = w**2\n",
    "    \n",
    "    Y = (test_splits * absolute_effect_sizes).sum()\n",
    "    num1 = np.square(Y - absolute_effect_sizes)\n",
    "    num = (test_splits * num1).sum()\n",
    "    \n",
    "    a = num + w2 * Y * Y\n",
    "    b = 2 * w2 * p * Y - w2 * Y\n",
    "    c = w2 * p * p - w2 * p\n",
    "    \n",
    "    roots = np.roots([a, b, c])\n",
    "    if absolute_effect_sizes.sum() > 0: root = roots.max()\n",
    "    else: root = roots.min()\n",
    "    \n",
    "    return root * absolute_effect_sizes\n",
    "\n",
    "sample_size = 3500\n",
    "natural_rate_of_success = 0.65\n",
    "experiment_splits = np.array([0.9, 0.1])\n",
    "experiment_lifts = np.array([0.08, 0.0])\n",
    "alpha = 0.05\n",
    "power = 0.80\n",
    "\n",
    "absolute_mde_lifts = solve_absolute_mde_linear(\n",
    "    sample_size=sample_size\n",
    "    ,test_splits=experiment_splits\n",
    "    ,absolute_effect_sizes=experiment_lifts\n",
    "    ,natural_rate=natural_rate_of_success\n",
    "    ,alpha=alpha\n",
    "    ,beta=(1-power)\n",
    ")\n",
    "print(\"Absolute MDE linearly scaled is:\", absolute_mde_lifts)"
   ]
  },
  {
   "cell_type": "markdown",
   "metadata": {},
   "source": [
    "# Test Split Derivation\n",
    "---\n",
    "When solving for MDE, we fix the test split for test group $j$ ($t_j$). To solve for the test split, we fix the effect size $e_j$.\n",
    "\n",
    "We can take the second-order polynomial we solved for when fixing $e_j$ and reorganize it such that:\n",
    "\n",
    "$$0=t_j^2[e_j^2(w^2-1)]+t_j[e_j^2+e_jw^2(2p-1)+2Xe_j(w^2-1)]+[w^2p(1-p)+2w^2Xp-w^2X(1-X)-X^2+(\\Sigma^*_it_ie_i^2)]$$\n",
    "\n",
    "We can go ahead and code this up, similar to the MDE code above."
   ]
  },
  {
   "cell_type": "code",
   "execution_count": 50,
   "metadata": {},
   "outputs": [
    {
     "name": "stdout",
     "output_type": "stream",
     "text": [
      "Appending -1 for group with no expected lift (group #1)\n",
      "Optimized test splits are: [0.883586082694308, -1]\n"
     ]
    }
   ],
   "source": [
    "def solve_test_splits(sample_size, group_splits, group_lifts, natural_rate, alpha, beta):\n",
    "    group_splits = np.array(group_splits)\n",
    "    group_lifts = np.array(group_lifts)\n",
    "    \n",
    "    n_groups = len(group_splits)\n",
    "    w = GofChisquarePower().solve_power(\n",
    "        nobs=sample_size\n",
    "        ,power=(1-beta)\n",
    "        ,alpha=alpha\n",
    "        ,n_bins=n_groups\n",
    "    )\n",
    "    w2 = w**2\n",
    "    \n",
    "    split_list = []\n",
    "    for index in range(n_groups):\n",
    "        e_j = group_lifts[index]\n",
    "        t_j = group_splits[index]\n",
    "        \n",
    "        if e_j == 0:\n",
    "            print(\"Appending -1 for group with no expected lift (group #\"+str(index)+\")\")\n",
    "            split_list.append(-1)\n",
    "        else:\n",
    "            X = np.sum(group_splits * group_lifts) - (e_j * t_j)\n",
    "            other_const = np.sum(group_splits * group_lifts * group_lifts) - (t_j * e_j * e_j)\n",
    "            \n",
    "            a = e_j**2 * (w2-1)\n",
    "            b = e_j**2 + e_j * w2 * (2*natural_rate-1) + 2 * X * e_j * (w2-1)\n",
    "            c = w2 * natural_rate * (natural_rate-1) + 2 * w2 * X * natural_rate - w2 * X * (1-X) - X**2 + other_const\n",
    "            \n",
    "            roots = np.roots([a, b, c])\n",
    "            split = np.max(roots)\n",
    "            split_list.append(split)\n",
    "    return split_list\n",
    "\n",
    "sample_size = 2400\n",
    "experiment_splits = [0.9, 0.1]\n",
    "experiment_lifts = [0.08, 0.0]\n",
    "natural_rate_of_success = 0.65\n",
    "alpha = 0.05\n",
    "power = 0.80\n",
    "\n",
    "opt_test_splits = solve_test_splits(\n",
    "    sample_size=sample_size\n",
    "    ,group_splits=experiment_splits\n",
    "    ,group_lifts=experiment_lifts\n",
    "    ,natural_rate=natural_rate_of_success\n",
    "    ,alpha=alpha\n",
    "    ,beta=(1-power)\n",
    ")\n",
    "print(\"Optimized test splits are:\", opt_test_splits)"
   ]
  },
  {
   "cell_type": "code",
   "execution_count": 51,
   "metadata": {},
   "outputs": [
    {
     "name": "stdout",
     "output_type": "stream",
     "text": [
      "Originally, the power of the system is: 0.7467885842887624\n"
     ]
    }
   ],
   "source": [
    "current_power = solve_power(\n",
    "    sample_size=sample_size\n",
    "    ,experiment_splits=experiment_splits\n",
    "    ,experiment_lifts=experiment_lifts\n",
    "    ,natural_rate_of_success=natural_rate_of_success\n",
    "    ,alpha=alpha\n",
    ")\n",
    "print(\"Originally, the power of the system is:\", current_power)"
   ]
  },
  {
   "cell_type": "code",
   "execution_count": 53,
   "metadata": {},
   "outputs": [
    {
     "name": "stdout",
     "output_type": "stream",
     "text": [
      "Desired power of the system is: 0.8\n",
      "With optimized split, the power of the system is: 0.8000003877367897\n"
     ]
    }
   ],
   "source": [
    "opt_test_split = opt_test_splits[0]\n",
    "new_experiment_splits = [opt_test_split, 1-opt_test_split]\n",
    "\n",
    "new_power = solve_power(\n",
    "    sample_size=sample_size\n",
    "    ,experiment_splits=new_experiment_splits\n",
    "    ,experiment_lifts=experiment_lifts\n",
    "    ,natural_rate_of_success=natural_rate_of_success\n",
    "    ,alpha=alpha\n",
    ")\n",
    "print(\"Desired power of the system is:\", power)\n",
    "print(\"With optimized split, the power of the system is:\", new_power)"
   ]
  },
  {
   "cell_type": "markdown",
   "metadata": {},
   "source": [
    "Recall that the following must hold:\n",
    "\n",
    "$$\\Sigma_it_i = 1$$\n",
    "\n",
    "For two groups, it is trivial how we split the difference in test split. We would take the ratio $r$ of the experimental group maximized, then take $(1-r)$ as the test split for the other group.\n",
    "\n",
    "But how do we distribute this difference across more than one experimental group? We explore the different ways to distribute the test split across experimental groups to ensure $\\Sigma_i t_i = 1$."
   ]
  },
  {
   "cell_type": "code",
   "execution_count": 54,
   "metadata": {},
   "outputs": [
    {
     "name": "stdout",
     "output_type": "stream",
     "text": [
      "Appending -1 for group with no expected lift (group #2)\n",
      "Optimized test splits are: [0.4537009118808317, 0.4467655021389181, -1]\n"
     ]
    }
   ],
   "source": [
    "sample_size = 2800\n",
    "experiment_splits = [0.4, 0.4, 0.2]\n",
    "experiment_lifts = [0.08, 0.06, 0.0]\n",
    "natural_rate_of_success = 0.65\n",
    "alpha = 0.05\n",
    "power = 0.80\n",
    "\n",
    "opt_test_splits = solve_test_splits(\n",
    "    sample_size=sample_size\n",
    "    ,group_splits=experiment_splits\n",
    "    ,group_lifts=experiment_lifts\n",
    "    ,natural_rate=natural_rate_of_success\n",
    "    ,alpha=alpha\n",
    "    ,beta=(1-power)\n",
    ")\n",
    "print(\"Optimized test splits are:\", opt_test_splits)"
   ]
  },
  {
   "cell_type": "code",
   "execution_count": 55,
   "metadata": {},
   "outputs": [
    {
     "name": "stdout",
     "output_type": "stream",
     "text": [
      "FOCUS ON ONE TEST GROUP, DIVID THE INFLATION ACROSS ALL OTHER GROUPS\n",
      "Power: 0.8489274235960513\n",
      "\n",
      "TRY TO USE OPTIMIZED SPLIT FOR ALL TEST GROUPS\n",
      "Power: 0.6722276296828984\n",
      "\n",
      "FOCUS ON ONE TEST GROUP, SUBTRACT THE INFLATION FROM ONLY THE OTHER TEST GROUP\n",
      "Power: 0.8851077728261384\n",
      "\n",
      "FOCUS ON ONE TEST GROUP, SUBTRACT THE INFLATION FROM ONLY THE CONTROL GROUP\n",
      "Power: 0.8000023049835838\n"
     ]
    }
   ],
   "source": [
    "print(\"FOCUS ON ONE TEST GROUP, DIVID THE INFLATION ACROSS ALL OTHER GROUPS\")\n",
    "test_split = opt_test_splits[0]\n",
    "diff = (test_split - experiment_splits[0]) / float(len(experiment_splits) - 1)\n",
    "new_experiment_splits = [test_split] + [es - diff for es in experiment_splits[1:]]\n",
    "assert sum(new_experiment_splits) == 1\n",
    "power = solve_power(\n",
    "    sample_size=sample_size\n",
    "    ,experiment_splits=new_experiment_splits\n",
    "    ,experiment_lifts=experiment_lifts\n",
    "    ,natural_rate_of_success=natural_rate_of_success\n",
    "    ,alpha=alpha\n",
    ")\n",
    "print(\"Power:\", power)\n",
    "\n",
    "print(\"\\nTRY TO USE OPTIMIZED SPLIT FOR ALL TEST GROUPS\")\n",
    "new_experiment_splits = opt_test_splits[:-1] + [1-sum(opt_test_splits[:-1])]\n",
    "assert sum(new_experiment_splits) == 1\n",
    "power = solve_power(\n",
    "    sample_size=sample_size\n",
    "    ,experiment_splits=new_experiment_splits\n",
    "    ,experiment_lifts=experiment_lifts\n",
    "    ,natural_rate_of_success=natural_rate_of_success\n",
    "    ,alpha=alpha\n",
    ")\n",
    "print(\"Power:\", power)\n",
    "\n",
    "print(\"\\nFOCUS ON ONE TEST GROUP, SUBTRACT THE INFLATION FROM ONLY THE OTHER TEST GROUP\")\n",
    "test_split = opt_test_splits[0]\n",
    "diff = (test_split - experiment_splits[0])\n",
    "new_experiment_splits = [test_split] + [experiment_splits[1] - diff] + [experiment_splits[2]]\n",
    "assert sum(new_experiment_splits) == 1\n",
    "power = solve_power(\n",
    "    sample_size=sample_size\n",
    "    ,experiment_splits=new_experiment_splits\n",
    "    ,experiment_lifts=experiment_lifts\n",
    "    ,natural_rate_of_success=natural_rate_of_success\n",
    "    ,alpha=alpha\n",
    ")\n",
    "print(\"Power:\", power)\n",
    "\n",
    "print(\"\\nFOCUS ON ONE TEST GROUP, SUBTRACT THE INFLATION FROM ONLY THE CONTROL GROUP\")\n",
    "test_split = opt_test_splits[0]\n",
    "diff = (test_split - experiment_splits[0])\n",
    "new_experiment_splits = [test_split] + [experiment_splits[1]] + [experiment_splits[2] - diff]\n",
    "assert sum(new_experiment_splits) == 1\n",
    "power = solve_power(\n",
    "    sample_size=sample_size\n",
    "    ,experiment_splits=new_experiment_splits\n",
    "    ,experiment_lifts=experiment_lifts\n",
    "    ,natural_rate_of_success=natural_rate_of_success\n",
    "    ,alpha=alpha\n",
    ")\n",
    "print(\"Power:\", power)"
   ]
  },
  {
   "cell_type": "markdown",
   "metadata": {},
   "source": [
    "# Minimize control split\n",
    "---\n",
    "A common request for a group running experimentation is to minimize the control split in oder to maximize the amount of potential value the treatment creates. The problem with minimizing the control group is that the way we inflate the other test groups ($>2$) is non-trivial. Let's assume that we would **increase the test groups linearly** as we minimize the control group.\n",
    "\n",
    "To do so, we should partition our formula below into test groups versus control group $j$:\n",
    "\n",
    "$$w=\\sqrt{\\Sigma_i\\frac{(E_i-O-i)^2}{E_i}} = \\sqrt{\\Sigma_i\\frac{t_i(\\Sigma_ke_kt_k-e_i)^2}{(p+\\Sigma_ke_kt_k)(1-p-\\Sigma_ke_kt_k)}}$$\n",
    "\n",
    "Before partitioning, let's expand this equation to be in the following form:\n",
    "\n",
    "$$w^2(p+Y)(1-p-Y)=\\Sigma_it_i(Y-e_i)^2,$$\n",
    "\n",
    "where $Y=\\Sigma_kt_ke_k$. Because $e_j$ (effect of control group) is zero, note that $Y=\\Sigma_kt_ke_k=\\Sigma^*_kt_ke_k+e_jt_j=\\Sigma^*_kt_ke_k$. Therefore, when we partition out the control group, none of the $Y$ terms are affected. Now we partition the equation by control versus test:\n",
    "\n",
    "$$w^2(p+Y)(1-p-Y)=\\Sigma^*_it_i(Y-e_i)^2+t_jY^2=Y\\Sigma^*_it_i-Y\\Sigma_i^*t_ie_i^2+t_jY^2$$\n",
    "\n",
    "Since the test splits add up to one, $\\Sigma^*_it_i=(1-t_j)$. Let's also define $Y^*=\\Sigma^*_it_ie_i^2$. Substitution yields:\n",
    "\n",
    "$$Y\\Sigma^*_it_i - Y\\Sigma^*_it_ie_i+\\Sigma^*_it_ie_i^2+t_jY^2=Y^2(1-t_j)-2Y^2+Y^*+t_jY^2=Y^*-Y^2$$\n",
    "\n",
    "Therefore, after partitioning we find:\n",
    "\n",
    "$$w^2(p+Y)(1-p-Y)=Y^*-Y^2$$\n",
    "\n",
    "We would like to increase each test group split by a linear factor and minimize the control group split $t_j$ by a factor that allows all splits to sum to one. Note that there is no $t_j$ in the equation above. We can solve for $at_i$, where $a$ is the constant factor that we scale the test groups by. This yields:\n",
    "\n",
    "$$a^2[Y^2(w^2-1)]+a[2w^2pY-w^2Y+Y^*]+[w^2p(p-1)]=0$$\n",
    "\n",
    "We can solve for $a$ using this second-order polynomial. Note that we can find the factor $b$ to scale the control group split $t_j$ down by using the following formulation:\n",
    "\n",
    "$$b = 1-a-at_j$$"
   ]
  },
  {
   "cell_type": "code",
   "execution_count": 57,
   "metadata": {},
   "outputs": [
    {
     "name": "stdout",
     "output_type": "stream",
     "text": [
      "Optimized test splits are: [0.88358608 0.11641392]\n"
     ]
    }
   ],
   "source": [
    "def solve_test_splits_linear(sample_size, test_splits, absolute_effects, natural_rate, alpha, beta):\n",
    "    test_splits = np.array(test_splits)\n",
    "    absolute_effects = np.array(absolute_effects)\n",
    "    p = natural_rate\n",
    "    \n",
    "    n_groups = len(test_splits)\n",
    "    w = GofChisquarePower().solve_power(\n",
    "        nobs=sample_size\n",
    "        ,power=(1-beta)\n",
    "        ,alpha=alpha\n",
    "        ,n_bins=n_groups\n",
    "    )\n",
    "    w2 = w**2\n",
    "    \n",
    "    Y = (test_splits * absolute_effects).sum()\n",
    "    Y_star = (test_splits * absolute_effects * absolute_effects).sum()\n",
    "    \n",
    "    a = Y**2 * (w2-1)\n",
    "    b = 2 * w2 * p * Y - w2 * Y + Y_star\n",
    "    c = w2 * p * (p-1)\n",
    "    \n",
    "    roots = np.roots([a, b, c])\n",
    "    root = np.max(roots)\n",
    "    \n",
    "    control_index = np.argwhere(absolute_effects == 0)\n",
    "    control_split = 1 - root + root * (test_splits[control_index].sum())\n",
    "    \n",
    "    if control_split <= 0:\n",
    "        print(\"Forcing control group to at least 1%\")\n",
    "        root = 0.99 / (1 - test_splits[control_index].sum())\n",
    "        control_split = (1 - root) + root * (test_splits[control_index].sum())\n",
    "    \n",
    "    opt_splits = root * test_splits\n",
    "    opt_splits[control_index] = control_split / len(control_index)\n",
    "    return opt_splits\n",
    "\n",
    "sample_size = 2400\n",
    "experiment_splits = [0.9, 0.1]\n",
    "experiment_lifts = [0.08, 0.0]\n",
    "natural_rate_of_success = 0.65\n",
    "alpha = 0.05\n",
    "power = 0.80\n",
    "\n",
    "opt_test_splits = solve_test_splits_linear(\n",
    "    sample_size=sample_size\n",
    "    ,test_splits=experiment_splits\n",
    "    ,absolute_effects=experiment_lifts\n",
    "    ,natural_rate=natural_rate_of_success\n",
    "    ,alpha=alpha\n",
    "    ,beta=(1-power)\n",
    ")\n",
    "print(\"Optimized test splits are:\", opt_test_splits)"
   ]
  },
  {
   "cell_type": "code",
   "execution_count": null,
   "metadata": {},
   "outputs": [],
   "source": []
  }
 ],
 "metadata": {
  "kernelspec": {
   "display_name": "Python 3",
   "language": "python",
   "name": "python3"
  },
  "language_info": {
   "codemirror_mode": {
    "name": "ipython",
    "version": 3
   },
   "file_extension": ".py",
   "mimetype": "text/x-python",
   "name": "python",
   "nbconvert_exporter": "python",
   "pygments_lexer": "ipython3",
   "version": "3.8.5"
  }
 },
 "nbformat": 4,
 "nbformat_minor": 4
}
